{
  "nbformat": 4,
  "nbformat_minor": 0,
  "metadata": {
    "colab": {
      "provenance": []
    },
    "kernelspec": {
      "name": "python3",
      "display_name": "Python 3"
    },
    "language_info": {
      "name": "python"
    }
  },
  "cells": [
    {
      "cell_type": "code",
      "execution_count": null,
      "metadata": {
        "colab": {
          "base_uri": "https://localhost:8080/"
        },
        "id": "LCgdGyvLbKHf",
        "outputId": "aa4ec55d-f3e0-4d0f-da42-4a4ed535eb6a"
      },
      "outputs": [
        {
          "output_type": "stream",
          "name": "stdout",
          "text": [
            "✊✋✌️ Welcome to Rock-Paper-Scissors!\n",
            "Choose rock, paper, or scissors (or 'q' to quit): rock\n",
            "Computer chose rock.\n",
            "It's a tie! 😐\n"
          ]
        }
      ],
      "source": [
        "import random\n",
        "\n",
        "options = [\"rock\", \"paper\", \"scissors\"]\n",
        "print(\"✊✋✌️ Welcome to Rock-Paper-Scissors!\")\n",
        "\n",
        "while True:\n",
        "    user_choice = input(\"Choose rock, paper, or scissors (or 'q' to quit): \").lower()\n",
        "    if user_choice == 'q':\n",
        "        print(\"Thanks for playing! 👋\")\n",
        "        break\n",
        "    if user_choice not in options:\n",
        "        print(\"Invalid choice! Try again.\")\n",
        "        continue\n",
        "\n",
        "    computer_choice = random.choice(options)\n",
        "    print(f\"Computer chose {computer_choice}.\")\n",
        "\n",
        "    if user_choice == computer_choice:\n",
        "        print(\"It's a tie! 😐\")\n",
        "    elif (user_choice == \"rock\" and computer_choice == \"scissors\") or \\\n",
        "         (user_choice == \"scissors\" and computer_choice == \"paper\") or \\\n",
        "         (user_choice == \"paper\" and computer_choice == \"rock\"):\n",
        "        print(\"You win! 🎉\")\n",
        "    else:\n",
        "        print(\"You lose! 😢\")"
      ]
    }
  ]
}